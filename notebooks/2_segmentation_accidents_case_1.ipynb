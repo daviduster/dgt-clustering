{
 "metadata": {
  "language_info": {
   "codemirror_mode": {
    "name": "ipython",
    "version": 3
   },
   "file_extension": ".py",
   "mimetype": "text/x-python",
   "name": "python",
   "nbconvert_exporter": "python",
   "pygments_lexer": "ipython3",
   "version": "3.8.2-final"
  },
  "orig_nbformat": 2,
  "kernelspec": {
   "name": "python3",
   "display_name": "Python 3.8.2 64-bit",
   "metadata": {
    "interpreter": {
     "hash": "31f2aee4e71d21fbe5cf8b01ff0e069b9275f58929596ceb00d14d90e3e16cd6"
    }
   }
  }
 },
 "nbformat": 4,
 "nbformat_minor": 2,
 "cells": [
  {
   "cell_type": "code",
   "execution_count": null,
   "metadata": {},
   "outputs": [],
   "source": [
    "import numpy as np\n",
    "import pandas as pd"
   ]
  },
  {
   "cell_type": "code",
   "execution_count": null,
   "metadata": {},
   "outputs": [],
   "source": [
    "from case_hours import *\n",
    "from pract2_utils import *"
   ]
  },
  {
   "cell_type": "code",
   "execution_count": null,
   "metadata": {},
   "outputs": [],
   "source": [
    "import matplotlib.pyplot as plt\n",
    "import seaborn as sns"
   ]
  },
  {
   "cell_type": "code",
   "execution_count": null,
   "metadata": {},
   "outputs": [],
   "source": [
    "from collections import Counter"
   ]
  },
  {
   "cell_type": "code",
   "execution_count": null,
   "metadata": {},
   "outputs": [],
   "source": [
    "from sklearn.cluster import AgglomerativeClustering"
   ]
  },
  {
   "source": [
    "# Case 1\n",
    "\n",
    "Accidentes que se producen a la hora de entrada y salida del trabajo y colegio (entre las 8-10 horas y 13-16 horas), escogiendo como días de lunes a viernes donde además, para reducir el número de muestras del problema consideramos lo comentado anteriormente en una proviciona concreta, por ejemplo Madrid, que tiene la mayor densidad de población de España."
   ],
   "cell_type": "markdown",
   "metadata": {}
  },
  {
   "cell_type": "code",
   "execution_count": null,
   "metadata": {},
   "outputs": [],
   "source": [
    "sns.set_style(\"whitegrid\")"
   ]
  },
  {
   "cell_type": "code",
   "execution_count": null,
   "metadata": {},
   "outputs": [],
   "source": [
    "dgt_data = pd.read_csv(\"../data/accidentes_2013.csv\")\n",
    "dgt_data.columns = [col.lower() for col in dgt_data]"
   ]
  },
  {
   "cell_type": "code",
   "execution_count": null,
   "metadata": {},
   "outputs": [],
   "source": [
    "g = sns.FacetGrid(dgt_data, col=\"diasemana\", col_wrap=4)\n",
    "g.map_dataframe(sns.histplot, x=\"hora\",y=\"tot_muertos\", binwidth=2)\n",
    "g.set_axis_labels(\"hora\", \"tot_muertos\")\n",
    "g.savefig(\"figures/2_segmentation/case_1/eda_diasemana_hora_muertos.png\")"
   ]
  },
  {
   "cell_type": "code",
   "execution_count": null,
   "metadata": {},
   "outputs": [],
   "source": [
    "g = sns.FacetGrid(dgt_data, col=\"diasemana\", col_wrap=4)\n",
    "g.map_dataframe(sns.histplot, x=\"hora\",y=\"tot_victimas\", binwidth=2)\n",
    "g.set_axis_labels(\"hora\", \"tot_victimas\")\n",
    "g.savefig(\"figures/2_segmentation/case_1/eda_diasemana_hora_victimas.png\")"
   ]
  },
  {
   "cell_type": "code",
   "execution_count": null,
   "metadata": {},
   "outputs": [],
   "source": [
    "case_1_subset = define_case_1()"
   ]
  },
  {
   "cell_type": "code",
   "execution_count": null,
   "metadata": {},
   "outputs": [],
   "source": [
    "case_1_subset.head()"
   ]
  },
  {
   "cell_type": "code",
   "execution_count": null,
   "metadata": {},
   "outputs": [],
   "source": [
    "case_1_subset.shape"
   ]
  },
  {
   "cell_type": "code",
   "execution_count": null,
   "metadata": {},
   "outputs": [],
   "source": [
    "case_1_subset['provincia'].value_counts().head()"
   ]
  },
  {
   "cell_type": "code",
   "execution_count": null,
   "metadata": {},
   "outputs": [],
   "source": [
    "case_1_subset['diasemana'].value_counts().head()"
   ]
  },
  {
   "cell_type": "code",
   "execution_count": null,
   "metadata": {},
   "outputs": [],
   "source": [
    "case_1_subset['hora'].value_counts().head()"
   ]
  },
  {
   "cell_type": "code",
   "execution_count": null,
   "metadata": {},
   "outputs": [],
   "source": [
    "atributos = ['tot_vehiculos_implicados', 'tot_heridos_leves', 'tot_heridos_graves','tot_muertos', 'tot_victimas']"
   ]
  },
  {
   "cell_type": "code",
   "execution_count": null,
   "metadata": {},
   "outputs": [],
   "source": [
    "hm = sns.pairplot(case_1_subset, vars = atributos, diag_kind=\"kde\")\n",
    "hm.savefig(\"figures/2_segmentation/case_1/eda.png\")"
   ]
  },
  {
   "cell_type": "code",
   "execution_count": null,
   "metadata": {},
   "outputs": [],
   "source": [
    "g = sns.FacetGrid(case_1_subset, col=\"tot_vehiculos_implicados\")\n",
    "g.map_dataframe(sns.histplot, x=\"hora\")"
   ]
  },
  {
   "cell_type": "code",
   "execution_count": null,
   "metadata": {},
   "outputs": [],
   "source": [
    "case_1_data = to_matrix(case_1_subset, atributos)"
   ]
  },
  {
   "cell_type": "code",
   "execution_count": null,
   "metadata": {},
   "outputs": [],
   "source": [
    "case_1_data_norm = norm(case_1_data)"
   ]
  },
  {
   "cell_type": "code",
   "execution_count": null,
   "metadata": {},
   "outputs": [],
   "source": [
    "case_1_algorithms = definition_clusters(case_1_data_norm)"
   ]
  },
  {
   "cell_type": "code",
   "execution_count": null,
   "metadata": {},
   "outputs": [],
   "source": [
    "case_1_predictions, case_1_times = get_predictions(case_1_algorithms, case_1_data_norm)"
   ]
  },
  {
   "cell_type": "code",
   "execution_count": null,
   "metadata": {},
   "outputs": [],
   "source": [
    "case_1_measures = calcule_measures(case_1_data_norm, case_1_predictions, case_1_times)"
   ]
  },
  {
   "cell_type": "code",
   "execution_count": null,
   "metadata": {},
   "outputs": [],
   "source": [
    "case_1_measures"
   ]
  },
  {
   "cell_type": "code",
   "execution_count": null,
   "metadata": {},
   "outputs": [],
   "source": [
    "# Medidas iniciales\n",
    "columns = ['Algoritmo', 'Clusters', 'Calinski', 'Silhouette', 'time(s)']\n",
    "print(latex_table(case_1_measures, columns, False))"
   ]
  },
  {
   "cell_type": "code",
   "execution_count": null,
   "metadata": {},
   "outputs": [],
   "source": [
    "a, b, n = 1, 10, 1"
   ]
  },
  {
   "cell_type": "code",
   "execution_count": null,
   "metadata": {},
   "outputs": [],
   "source": [
    "# Elbow\n",
    "case_1_distortions, case_1_inertia, case_1_time_kmeans  = kmeans_parameters(case_1_data_norm, a, b, n)\n",
    "plot_time(case_1_inertia, case_1_time_kmeans, \"elbow\", \"time(s)\", \"figures/2_segmentation/case_1/kmeans_elbow.pdf\", a, b, n)"
   ]
  },
  {
   "cell_type": "code",
   "execution_count": null,
   "metadata": {},
   "outputs": [],
   "source": [
    "a, b, n = 5, 50, 5"
   ]
  },
  {
   "cell_type": "code",
   "execution_count": null,
   "metadata": {},
   "outputs": [],
   "source": [
    "# Distortions\n",
    "case_1_distortions, case_1_inertia, case_1_time_kmeans  = kmeans_parameters(case_1_data_norm, a, b, n)"
   ]
  },
  {
   "cell_type": "code",
   "execution_count": null,
   "metadata": {},
   "outputs": [],
   "source": [
    "plot_time(case_1_distortions, case_1_time_kmeans, \"Distortions\", \"time(s)\", \"figures/2_segmentation/case_1/kmeans_distortions.pdf\", a, b, n)"
   ]
  },
  {
   "cell_type": "code",
   "execution_count": null,
   "metadata": {},
   "outputs": [],
   "source": [
    "# Inertia\n",
    "plot_time(case_1_inertia, case_1_time_kmeans, \"Inertia\", \"time(s)\", \"figures/2_segmentation/case_1/kmeans_inertia.pdf\", a, b, n)"
   ]
  },
  {
   "cell_type": "code",
   "execution_count": null,
   "metadata": {},
   "outputs": [],
   "source": [
    "case_1_silhouette_scores, case_1_calinski_scores = measures_kmeans_range(case_1_data_norm, a, b, n)"
   ]
  },
  {
   "cell_type": "code",
   "execution_count": null,
   "metadata": {},
   "outputs": [],
   "source": [
    "# Comparison silhouette calinski\n",
    "plot_time(case_1_silhouette_scores, case_1_calinski_scores, \"silhouette\", \"calinski\", \"figures/2_segmentation/case_1/silhouette_calinski.pdf\", a, b, n)"
   ]
  },
  {
   "cell_type": "code",
   "execution_count": null,
   "metadata": {},
   "outputs": [],
   "source": [
    "case_1_table = {\n",
    "                \"Silhouette\":case_1_silhouette_scores,\n",
    "                \"Calinski-Harabaz\":case_1_calinski_scores,\n",
    "                \"time(s)\":case_1_time_kmeans\n",
    "                }"
   ]
  },
  {
   "cell_type": "code",
   "execution_count": null,
   "metadata": {},
   "outputs": [],
   "source": [
    "columns = ['Silhouette','Calinski-Harabaz','time(s)']\n",
    "index=range(a,b,n)\n",
    "print(latex_table_index(case_1_table, columns, index))"
   ]
  },
  {
   "source": [
    "## Outliers"
   ],
   "cell_type": "markdown",
   "metadata": {}
  },
  {
   "cell_type": "code",
   "execution_count": null,
   "metadata": {},
   "outputs": [],
   "source": [
    "# Generamos el nuevo set sin outliers\n",
    "ward_no_outliers_subset = delete_outliers(case_1_predictions[3], case_1_subset, 2)"
   ]
  },
  {
   "cell_type": "code",
   "execution_count": null,
   "metadata": {},
   "outputs": [],
   "source": [
    "ward_no_outliers_subset_data_norm = norm(to_matrix(ward_no_outliers_subset, atributos))"
   ]
  },
  {
   "cell_type": "code",
   "execution_count": null,
   "metadata": {},
   "outputs": [],
   "source": [
    "ward_no_outliers_subset_prediction, ward_no_outliers_times = get_predictions(case_1_algorithms[3:5], ward_no_outliers_subset_data_norm)"
   ]
  },
  {
   "cell_type": "code",
   "execution_count": null,
   "metadata": {},
   "outputs": [],
   "source": [
    "ward_no_outliers_measures = calcule_measures(ward_no_outliers_subset_data_norm, ward_no_outliers_subset_prediction, ward_no_outliers_times)"
   ]
  },
  {
   "cell_type": "code",
   "execution_count": null,
   "metadata": {},
   "outputs": [],
   "source": [
    "# 35\n",
    "ward_35 = AgglomerativeClustering(n_clusters=35, linkage='ward')\n",
    "prediction_ward_35 =  ('ward_35', ward_35.fit_predict(ward_no_outliers_subset_data_norm))"
   ]
  },
  {
   "cell_type": "code",
   "execution_count": null,
   "metadata": {},
   "outputs": [],
   "source": [
    "ward_35_no_outliers_subset = delete_outliers(prediction_ward_35, ward_no_outliers_subset, 2)"
   ]
  },
  {
   "cell_type": "code",
   "execution_count": null,
   "metadata": {},
   "outputs": [],
   "source": [
    "case_1_agglomerative = configuraciones_agglomerative()"
   ]
  },
  {
   "cell_type": "code",
   "execution_count": null,
   "metadata": {},
   "outputs": [],
   "source": [
    "ward_35_no_outliers_data_norm = norm(to_matrix(ward_35_no_outliers_subset, atributos))"
   ]
  },
  {
   "cell_type": "code",
   "execution_count": null,
   "metadata": {},
   "outputs": [],
   "source": [
    "case_ward_35_predictions_agglomerative, case_ward_35_times_agglomerative  = get_predictions(case_1_agglomerative, ward_35_no_outliers_data_norm)"
   ]
  },
  {
   "cell_type": "code",
   "execution_count": null,
   "metadata": {},
   "outputs": [],
   "source": [
    "case_35_measures_ward = calcule_measures(ward_35_no_outliers_data_norm, case_ward_35_predictions_agglomerative, case_ward_35_times_agglomerative)"
   ]
  },
  {
   "cell_type": "code",
   "execution_count": null,
   "metadata": {},
   "outputs": [],
   "source": [
    "# Tabla de medidas sin outliers\n",
    "columns = ['Algoritmo', 'Clusters', 'Calinski', 'Silhouette', 'time(s)']\n",
    "print(latex_table(case_35_measures_ward, columns, False))"
   ]
  },
  {
   "source": [
    "## Interpretacion"
   ],
   "cell_type": "markdown",
   "metadata": {}
  },
  {
   "cell_type": "code",
   "execution_count": null,
   "metadata": {},
   "outputs": [],
   "source": [
    "# kmeans\n",
    "kmeans_label = case_1_predictions[0][1]"
   ]
  },
  {
   "cell_type": "code",
   "execution_count": null,
   "metadata": {},
   "outputs": [],
   "source": [
    "Counter(kmeans_label)"
   ]
  },
  {
   "cell_type": "code",
   "execution_count": null,
   "metadata": {},
   "outputs": [],
   "source": [
    "pairplot(case_1_subset, atributos, \"figures/2_segmentation/case_1/pairplot_kmeans.png\", kmeans_label)"
   ]
  },
  {
   "cell_type": "code",
   "execution_count": null,
   "metadata": {},
   "outputs": [],
   "source": [
    "df_kmeans_centroids = pd.DataFrame(case_1_data_norm)\n",
    "df_kmeans_centroids.columns = atributos\n",
    "df_kmeans_centroids['cluster'] = kmeans_label\n",
    "df_kmeans_centroids = df_kmeans_centroids.groupby('cluster').mean()"
   ]
  },
  {
   "cell_type": "code",
   "execution_count": null,
   "metadata": {},
   "outputs": [],
   "source": [
    "visualize_centroids(df_kmeans_centroids.values, case_1_data_norm, \"figures/2_segmentation/case_1/centroids_kmeans_norm.pdf\", atributos, 0.0)"
   ]
  },
  {
   "cell_type": "code",
   "execution_count": null,
   "metadata": {},
   "outputs": [],
   "source": [
    "visualize_centroids(df_kmeans_centroids.values, case_1_data, \"figures/2_segmentation/case_1/centroids_kmeans.pdf\", atributos, 0.0)"
   ]
  },
  {
   "source": [
    "## Agglomerative sin outliers"
   ],
   "cell_type": "markdown",
   "metadata": {}
  },
  {
   "cell_type": "code",
   "execution_count": null,
   "metadata": {},
   "outputs": [],
   "source": [
    "ward_35_labels = case_ward_35_predictions_agglomerative[0][1]"
   ]
  },
  {
   "cell_type": "code",
   "execution_count": null,
   "metadata": {},
   "outputs": [],
   "source": [
    "pairplot(ward_35_no_outliers_subset, atributos, \"figures/2_segmentation/case_1/pairplot_ward35.png\", ward_35_labels)"
   ]
  },
  {
   "cell_type": "code",
   "execution_count": null,
   "metadata": {},
   "outputs": [],
   "source": [
    "# 5\n",
    "ward_5 = AgglomerativeClustering(n_clusters=5, linkage='ward')\n",
    "prediction_ward_5 =  ('ward_5', ward_5.fit_predict(ward_no_outliers_subset_data_norm))"
   ]
  },
  {
   "cell_type": "code",
   "execution_count": null,
   "metadata": {},
   "outputs": [],
   "source": [
    "ward_5_no_outliers_subset = delete_outliers(prediction_ward_5, ward_no_outliers_subset, 2)"
   ]
  },
  {
   "cell_type": "code",
   "execution_count": null,
   "metadata": {},
   "outputs": [],
   "source": [
    "ward_5_no_outliers_data = to_matrix(ward_5_no_outliers_subset, atributos)"
   ]
  },
  {
   "cell_type": "code",
   "execution_count": null,
   "metadata": {},
   "outputs": [],
   "source": [
    "ward_5_no_outliers_data_norm = norm(ward_5_no_outliers_data)"
   ]
  },
  {
   "cell_type": "code",
   "execution_count": null,
   "metadata": {},
   "outputs": [],
   "source": [
    "case_ward_5_predictions_agglomerative, case_ward_5_times_agglomerative  = get_predictions(case_1_agglomerative, ward_5_no_outliers_data_norm)"
   ]
  },
  {
   "cell_type": "code",
   "execution_count": null,
   "metadata": {},
   "outputs": [],
   "source": [
    "case_5_measures_ward = calcule_measures(ward_5_no_outliers_data_norm, case_ward_5_predictions_agglomerative, case_ward_5_times_agglomerative)"
   ]
  },
  {
   "cell_type": "code",
   "execution_count": null,
   "metadata": {},
   "outputs": [],
   "source": [
    "ward_5_labels = case_ward_5_predictions_agglomerative[0][1]"
   ]
  },
  {
   "cell_type": "code",
   "execution_count": null,
   "metadata": {},
   "outputs": [],
   "source": [
    "pairplot(ward_5_no_outliers_subset, atributos, \"figures/2_segmentation/case_1/pairplot_ward5.png\", ward_5_labels)"
   ]
  },
  {
   "source": [
    "## Dendograma"
   ],
   "cell_type": "markdown",
   "metadata": {}
  },
  {
   "cell_type": "code",
   "execution_count": null,
   "metadata": {},
   "outputs": [],
   "source": [
    "# setting distance_threshold=0 ensures we compute the full tree.\n",
    "model = AgglomerativeClustering(linkage='ward', distance_threshold=0, n_clusters=None)\n",
    "\n",
    "model = model.fit(ward_35_no_outliers_data_norm)\n",
    "plt.title('Hierarchical Clustering Dendrogram')\n",
    "# plot the top three levels of the dendrogram\n",
    "plot_dendrogram(model, truncate_mode='level', p=4)\n",
    "#plt.xlabel(\"Number of points in node (or index of point if no parenthesis).\")\n",
    "plt.savefig(\"figures/2_segmentation/case_1/hierarchical_clustering.pdf\")\n",
    "plt.show()"
   ]
  },
  {
   "cell_type": "code",
   "execution_count": null,
   "metadata": {},
   "outputs": [],
   "source": [
    "dendograma_subset = pd.DataFrame(ward_35_no_outliers_subset,index=ward_35_no_outliers_subset.index, columns=atributos)\n",
    "hm = sns.clustermap(dendograma_subset, method='ward', col_cluster=False, figsize=(20,10), cmap=\"YlGnBu\",  yticklabels=False)\n",
    "hm.savefig(\"figures/2_segmentation/case_1/clustermap.pdf\")"
   ]
  },
  {
   "cell_type": "code",
   "execution_count": null,
   "metadata": {},
   "outputs": [],
   "source": [
    "Counter(ward_35_labels)"
   ]
  },
  {
   "cell_type": "code",
   "execution_count": null,
   "metadata": {},
   "outputs": [],
   "source": [
    "Counter(ward_5_labels)"
   ]
  },
  {
   "cell_type": "code",
   "execution_count": null,
   "metadata": {},
   "outputs": [],
   "source": [
    "df_ward_5_no_outliers = pd.DataFrame(ward_5_no_outliers_data_norm)\n",
    "df_ward_5_no_outliers.columns = atributos\n",
    "df_ward_5_no_outliers['cluster'] = ward_5_labels\n",
    "df_ward_5_centroides = df_ward_5_no_outliers.groupby('cluster').mean()"
   ]
  },
  {
   "cell_type": "code",
   "execution_count": null,
   "metadata": {},
   "outputs": [],
   "source": [
    "visualize_centroids(df_ward_5_centroides.values, ward_5_no_outliers_data_norm, \"figures/2_segmentation/case_1/centroids_ward_5_norm.pdf\", atributos, 0.0)"
   ]
  },
  {
   "cell_type": "code",
   "execution_count": null,
   "metadata": {},
   "outputs": [],
   "source": [
    "visualize_centroids(df_ward_5_centroides.values, ward_5_no_outliers_data, \"figures/2_segmentation/case_1/centroids_ward_5.pdf\", atributos, 0.0)"
   ]
  }
 ]
}