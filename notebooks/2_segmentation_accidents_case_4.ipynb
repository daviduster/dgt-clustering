{
 "metadata": {
  "language_info": {
   "codemirror_mode": {
    "name": "ipython",
    "version": 3
   },
   "file_extension": ".py",
   "mimetype": "text/x-python",
   "name": "python",
   "nbconvert_exporter": "python",
   "pygments_lexer": "ipython3",
   "version": "3.8.3-final"
  },
  "orig_nbformat": 2,
  "kernelspec": {
   "name": "python3",
   "display_name": "Python 3"
  }
 },
 "nbformat": 4,
 "nbformat_minor": 2,
 "cells": [
  {
   "cell_type": "code",
   "execution_count": null,
   "metadata": {},
   "outputs": [],
   "source": [
    "import numpy as np\n",
    "import pandas as pd"
   ]
  },
  {
   "cell_type": "code",
   "execution_count": null,
   "metadata": {},
   "outputs": [],
   "source": [
    "from case_curves import *\n",
    "from case_hours import plot_time, kmeans_parameters, measures_kmeans_range\n",
    "from pract2_utils import *"
   ]
  },
  {
   "cell_type": "code",
   "execution_count": null,
   "metadata": {},
   "outputs": [],
   "source": [
    "import matplotlib.pyplot as plt\n",
    "import seaborn as sns"
   ]
  },
  {
   "cell_type": "code",
   "execution_count": null,
   "metadata": {},
   "outputs": [],
   "source": [
    "from collections import Counter"
   ]
  },
  {
   "source": [
    "# Case 4\n",
    "\n",
    "Accidentes que tengan que ver con curvas sin visibilidad restringida"
   ],
   "cell_type": "markdown",
   "metadata": {}
  },
  {
   "cell_type": "code",
   "execution_count": null,
   "metadata": {},
   "outputs": [],
   "source": [
    "sns.set_style(\"whitegrid\")"
   ]
  },
  {
   "cell_type": "code",
   "execution_count": null,
   "metadata": {},
   "outputs": [],
   "source": [
    "case_4_subset = define_case_4()"
   ]
  },
  {
   "cell_type": "code",
   "execution_count": null,
   "metadata": {},
   "outputs": [],
   "source": [
    "case_4_subset.head()"
   ]
  },
  {
   "cell_type": "code",
   "execution_count": null,
   "metadata": {},
   "outputs": [],
   "source": [
    "case_4_subset.shape"
   ]
  },
  {
   "cell_type": "code",
   "execution_count": null,
   "metadata": {},
   "outputs": [],
   "source": [
    "case_4_subset['trazado_no_intersec'].value_counts().head()"
   ]
  },
  {
   "cell_type": "code",
   "execution_count": null,
   "metadata": {},
   "outputs": [],
   "source": [
    "case_4_subset['visibilidad_restringida'].value_counts().head()"
   ]
  },
  {
   "cell_type": "code",
   "execution_count": null,
   "metadata": {},
   "outputs": [],
   "source": [
    "atributos = ['tot_vehiculos_implicados', 'tot_heridos_leves', 'tot_heridos_graves','tot_muertos', 'tot_victimas']"
   ]
  },
  {
   "cell_type": "code",
   "execution_count": null,
   "metadata": {},
   "outputs": [],
   "source": [
    "hm = sns.pairplot(case_4_subset, vars = atributos, diag_kind=\"kde\")\n",
    "hm.savefig(\"figures/2_segmentation/case_4/eda.png\")"
   ]
  },
  {
   "cell_type": "code",
   "execution_count": null,
   "metadata": {},
   "outputs": [],
   "source": [
    "hm = sns.pairplot(case_4_subset, vars = atributos, diag_kind=\"kde\")\n",
    "hm.savefig(\"figures/2_segmentation/case_4/eda.png\")"
   ]
  },
  {
   "cell_type": "code",
   "execution_count": null,
   "metadata": {},
   "outputs": [],
   "source": [
    "sns.pairplot(case_4_subset, vars = atributos, diag_kind=\"kde\")"
   ]
  },
  {
   "cell_type": "code",
   "execution_count": null,
   "metadata": {},
   "outputs": [],
   "source": [
    "case_4_data = to_matrix(case_4_subset, atributos)"
   ]
  },
  {
   "cell_type": "code",
   "execution_count": null,
   "metadata": {},
   "outputs": [],
   "source": [
    "case_4_data_norm = norm(case_4_data)"
   ]
  },
  {
   "cell_type": "code",
   "execution_count": null,
   "metadata": {},
   "outputs": [],
   "source": [
    "case_4_algorithms = definition_clusters_case_3(case_4_data_norm)"
   ]
  },
  {
   "cell_type": "code",
   "execution_count": null,
   "metadata": {},
   "outputs": [],
   "source": [
    "case_4_predictions, case_4_times = get_predictions(case_4_algorithms, case_4_data_norm)"
   ]
  },
  {
   "cell_type": "code",
   "execution_count": null,
   "metadata": {},
   "outputs": [],
   "source": [
    "case_4_measures = calcule_measures(case_4_data_norm, case_4_predictions, case_4_times)"
   ]
  },
  {
   "cell_type": "code",
   "execution_count": null,
   "metadata": {},
   "outputs": [],
   "source": [
    "columns = ['Algoritmo', 'Clusters', 'Calinski', 'Silhouette', 'time(s)']\n",
    "print(latex_table(case_4_measures, columns, False))"
   ]
  },
  {
   "cell_type": "code",
   "execution_count": null,
   "metadata": {},
   "outputs": [],
   "source": [
    "a, b, n = 1, 10, 1"
   ]
  },
  {
   "cell_type": "code",
   "execution_count": null,
   "metadata": {},
   "outputs": [],
   "source": [
    "case_4_distortions, case_4_inertia, case_4_time_kmeans  = kmeans_parameters(case_4_data_norm, a, b, n)"
   ]
  },
  {
   "cell_type": "code",
   "execution_count": null,
   "metadata": {},
   "outputs": [],
   "source": [
    "plot_time(case_4_inertia, case_4_time_kmeans, \"elbow\", \"time(s)\", \"figures/2_segmentation/case_4/kmeans_elbow.pdf\", a, b, n)"
   ]
  },
  {
   "cell_type": "code",
   "execution_count": null,
   "metadata": {},
   "outputs": [],
   "source": [
    "a, b, n = 5, 50, 5"
   ]
  },
  {
   "cell_type": "code",
   "execution_count": null,
   "metadata": {},
   "outputs": [],
   "source": [
    "case_4_distortions, case_4_inertia, case_4_time_kmeans  = kmeans_parameters(case_4_data_norm, a, b, n)"
   ]
  },
  {
   "cell_type": "code",
   "execution_count": null,
   "metadata": {},
   "outputs": [],
   "source": [
    "plot_time(case_4_distortions, case_4_time_kmeans, \"Distortions\", \"time(s)\", \"figures/2_segmentation/case_4/kmeans_distortions.pdf\", a, b, n)"
   ]
  },
  {
   "cell_type": "code",
   "execution_count": null,
   "metadata": {},
   "outputs": [],
   "source": [
    "plot_time(case_4_inertia, case_4_time_kmeans, \"Inertia\", \"time(s)\", \"figures/2_segmentation/case_4/kmeans_inertia.pdf\", a, b, n)"
   ]
  },
  {
   "cell_type": "code",
   "execution_count": null,
   "metadata": {},
   "outputs": [],
   "source": [
    "case_4_silhouette_scores, case_4_calinski_scores = measures_kmeans_range(case_4_data_norm, a, b, n)"
   ]
  },
  {
   "cell_type": "code",
   "execution_count": null,
   "metadata": {},
   "outputs": [],
   "source": [
    "plot_time(case_4_silhouette_scores, case_4_calinski_scores, \"silhouette\", \"calinski\", \"figures/2_segmentation/case_4/silhouette_calinski.pdf\", a, b, n)"
   ]
  },
  {
   "cell_type": "code",
   "execution_count": null,
   "metadata": {},
   "outputs": [],
   "source": [
    "case_4_table = {\n",
    "                \"Silhouette\":case_4_silhouette_scores,\n",
    "                \"Calinski-Harabaz\":case_4_calinski_scores,\n",
    "                \"time(s)\":case_4_time_kmeans\n",
    "                }"
   ]
  },
  {
   "cell_type": "code",
   "execution_count": null,
   "metadata": {},
   "outputs": [],
   "source": [
    "columns = ['Silhouette','Calinski-Harabaz','time(s)']\n",
    "index=range(a,b,n)\n",
    "print(latex_table_index(case_4_table, columns, index))"
   ]
  },
  {
   "source": [
    "## Birch parameters"
   ],
   "cell_type": "markdown",
   "metadata": {}
  },
  {
   "cell_type": "code",
   "execution_count": null,
   "metadata": {},
   "outputs": [],
   "source": [
    "config_birch_clusters = configuraciones_birch_clusters(0.01)"
   ]
  },
  {
   "cell_type": "code",
   "execution_count": null,
   "metadata": {},
   "outputs": [],
   "source": [
    "prediction_birch_clusters, times_birch_clusters = get_predictions(config_birch_clusters, case_4_data_norm)"
   ]
  },
  {
   "cell_type": "code",
   "execution_count": null,
   "metadata": {},
   "outputs": [],
   "source": [
    "measures_birch_clusters = calcule_measures(case_4_data_norm, prediction_birch_clusters, times_birch_clusters)"
   ]
  },
  {
   "cell_type": "code",
   "execution_count": null,
   "metadata": {},
   "outputs": [],
   "source": [
    "columns = ['Algoritmo', 'Clusters', 'Calinski', 'Silhouette', 'time(s)']\n",
    "print(latex_table(measures_birch_clusters, columns, False))"
   ]
  },
  {
   "cell_type": "code",
   "execution_count": null,
   "metadata": {},
   "outputs": [],
   "source": [
    "# Birch threshold\n",
    "config_birch_threshold = configuraciones_birch_threshold(10)"
   ]
  },
  {
   "cell_type": "code",
   "execution_count": null,
   "metadata": {},
   "outputs": [],
   "source": [
    "prediction_birch_threshold, times_birch_threshold = get_predictions(config_birch_threshold, case_4_data_norm)"
   ]
  },
  {
   "cell_type": "code",
   "execution_count": null,
   "metadata": {},
   "outputs": [],
   "source": [
    "measures_birch_threshold = calcule_measures(case_4_data_norm, prediction_birch_threshold, times_birch_threshold)"
   ]
  },
  {
   "cell_type": "code",
   "execution_count": null,
   "metadata": {},
   "outputs": [],
   "source": [
    "columns = ['Algoritmo', 'Clusters', 'Calinski', 'Silhouette', 'time(s)']\n",
    "print(latex_table(measures_birch_threshold, columns, False))"
   ]
  },
  {
   "source": [
    "## Meanshift"
   ],
   "cell_type": "markdown",
   "metadata": {}
  },
  {
   "cell_type": "code",
   "execution_count": null,
   "metadata": {},
   "outputs": [],
   "source": [
    "config_meanshift = configuraciones_meanshift(case_4_data_norm)"
   ]
  },
  {
   "cell_type": "code",
   "execution_count": null,
   "metadata": {},
   "outputs": [],
   "source": [
    "predictions_meanshift, times_meanshift = get_predictions(config_meanshift, case_4_data_norm)"
   ]
  },
  {
   "cell_type": "code",
   "execution_count": null,
   "metadata": {},
   "outputs": [],
   "source": [
    "measures_meanshift = calcule_measures(case_4_data_norm, predictions_meanshift, times_meanshift)"
   ]
  },
  {
   "cell_type": "code",
   "execution_count": null,
   "metadata": {},
   "outputs": [],
   "source": [
    "columns = ['Algoritmo', 'Clusters', 'Calinski', 'Silhouette', 'time(s)']\n",
    "print(latex_table(measures_meanshift, columns, False))"
   ]
  },
  {
   "source": [
    "## Agglomerative"
   ],
   "cell_type": "markdown",
   "metadata": {}
  },
  {
   "cell_type": "code",
   "execution_count": null,
   "metadata": {},
   "outputs": [],
   "source": [
    "config_ward = configuraciones_agglomerative_connectivity(case_4_data_norm)"
   ]
  },
  {
   "cell_type": "code",
   "execution_count": null,
   "metadata": {},
   "outputs": [],
   "source": [
    "predictions_ward , times_ward = get_predictions(config_ward, case_4_data_norm)"
   ]
  },
  {
   "cell_type": "code",
   "execution_count": null,
   "metadata": {},
   "outputs": [],
   "source": [
    "measures_ward = calcule_measures(case_4_data_norm, predictions_ward, times_ward)"
   ]
  },
  {
   "cell_type": "code",
   "execution_count": null,
   "metadata": {},
   "outputs": [],
   "source": [
    "columns = ['Algoritmo', 'Clusters', 'Calinski', 'Silhouette', 'time(s)']\n",
    "print(latex_table(measures_ward, columns, False))"
   ]
  },
  {
   "source": [
    "## Interpretaciones \n"
   ],
   "cell_type": "markdown",
   "metadata": {}
  },
  {
   "cell_type": "code",
   "execution_count": null,
   "metadata": {},
   "outputs": [],
   "source": [
    "# kmeans\n",
    "kmeans_label = case_4_predictions[0][1]"
   ]
  },
  {
   "cell_type": "code",
   "execution_count": null,
   "metadata": {},
   "outputs": [],
   "source": [
    "Counter(kmeans_label)"
   ]
  },
  {
   "cell_type": "code",
   "execution_count": null,
   "metadata": {},
   "outputs": [],
   "source": [
    "pairplot(case_4_subset, atributos, \"figures/2_segmentation/case_4/pairplot_kmeans.png\", kmeans_label)"
   ]
  },
  {
   "cell_type": "code",
   "execution_count": null,
   "metadata": {},
   "outputs": [],
   "source": [
    "df_kmeans_centroids = pd.DataFrame(case_4_data_norm)\n",
    "df_kmeans_centroids.columns = atributos\n",
    "df_kmeans_centroids['cluster'] = kmeans_label\n",
    "df_kmeans_centroids = df_kmeans_centroids.groupby('cluster').mean()"
   ]
  },
  {
   "cell_type": "code",
   "execution_count": null,
   "metadata": {},
   "outputs": [],
   "source": [
    "visualize_centroids(df_kmeans_centroids.values, case_4_data_norm, \"figures/2_segmentation/case_4/centroids_kmeans_norm.pdf\", atributos, 0.0)"
   ]
  },
  {
   "cell_type": "code",
   "execution_count": null,
   "metadata": {},
   "outputs": [],
   "source": [
    "visualize_centroids(df_kmeans_centroids.values, case_4_data, \"figures/2_segmentation/case_4/centroids_kmeans.pdf\", atributos, 0.0)"
   ]
  },
  {
   "cell_type": "code",
   "execution_count": null,
   "metadata": {},
   "outputs": [],
   "source": [
    "# Agglomerative \n",
    "agglomerative_labels = case_4_predictions[3][1]"
   ]
  },
  {
   "cell_type": "code",
   "execution_count": null,
   "metadata": {},
   "outputs": [],
   "source": [
    "Counter(agglomerative_labels)"
   ]
  },
  {
   "cell_type": "code",
   "execution_count": null,
   "metadata": {},
   "outputs": [],
   "source": [
    "pairplot(case_4_subset, atributos, \"figures/2_segmentation/case_4/pairplot_agglomerative.png\", agglomerative_labels)"
   ]
  },
  {
   "cell_type": "code",
   "execution_count": null,
   "metadata": {},
   "outputs": [],
   "source": [
    "df_agglomerative_centroids = pd.DataFrame(case_4_data_norm)\n",
    "df_agglomerative_centroids.columns = atributos\n",
    "df_agglomerative_centroids['cluster'] = agglomerative_labels\n",
    "df_agglomerative_centroids = df_agglomerative_centroids.groupby('cluster').mean()"
   ]
  },
  {
   "cell_type": "code",
   "execution_count": null,
   "metadata": {},
   "outputs": [],
   "source": [
    "visualize_centroids(df_agglomerative_centroids.values, case_4_data_norm, \"figures/2_segmentation/case_4/centroids_agglomerative_norm.pdf\", atributos, 0.0)"
   ]
  },
  {
   "cell_type": "code",
   "execution_count": null,
   "metadata": {},
   "outputs": [],
   "source": [
    "visualize_centroids(df_agglomerative_centroids.values, case_4_data, \"figures/2_segmentation/case_4/centroids_agglomerative.pdf\", atributos, 0.0)"
   ]
  },
  {
   "cell_type": "code",
   "execution_count": null,
   "metadata": {},
   "outputs": [],
   "source": [
    "dendograma_subset = pd.DataFrame(case_4_subset,index=case_4_subset.index, columns=atributos)\n",
    "hm = sns.clustermap(dendograma_subset, method='ward', col_cluster=False, figsize=(20,10), cmap=\"YlGnBu\",  yticklabels=False)\n",
    "hm.savefig(\"figures/2_segmentation/case_4/clustermap.pdf\")"
   ]
  },
  {
   "cell_type": "code",
   "execution_count": null,
   "metadata": {},
   "outputs": [],
   "source": []
  }
 ]
}